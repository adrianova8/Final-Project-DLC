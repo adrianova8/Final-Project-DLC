{
 "cells": [
  {
   "cell_type": "markdown",
   "id": "b90c2abc",
   "metadata": {},
   "source": [
    "# Scripts análisis de datos"
   ]
  },
  {
   "cell_type": "code",
   "execution_count": 1,
   "id": "3230ea5c",
   "metadata": {},
   "outputs": [],
   "source": [
    "# Importamos las liberías necesarias\n",
    "import numpy as np\n",
    "import pandas as pd\n",
    "import matplotlib.pyplot as plt\n",
    "from pandas_profiling import ProfileReport\n",
    "import os"
   ]
  },
  {
   "cell_type": "code",
   "execution_count": 4,
   "id": "cfa66ad4",
   "metadata": {},
   "outputs": [
    {
     "data": {
      "text/plain": [
       "'/Users/adrianova/Desktop/Masters Data Science Santander/Máster Data Science UC/Asignaturas/Data Life Cycling /Proyecto_GrupoVerde'"
      ]
     },
     "execution_count": 4,
     "metadata": {},
     "output_type": "execute_result"
    }
   ],
   "source": [
    "# Where Am I?\n",
    "os.getcwd()"
   ]
  },
  {
   "cell_type": "code",
   "execution_count": 15,
   "id": "fae7c3fd",
   "metadata": {},
   "outputs": [],
   "source": [
    "# 1. Extraer datos de paro por pais\n",
    "datos_paro = pd.read_csv(\"datos_limpios/datos_paro/paro_paises.csv\")\n",
    "datos_paro = datos_paro.T\n",
    "headerFinal = datos_paro.iloc[0]\n",
    "datos_paro = datos_paro[1:]\n",
    "datos_paro.columns = headerFinal\n",
    "pd.DataFrame(datos_paro).to_csv('datos_paro_final.csv')"
   ]
  },
  {
   "cell_type": "code",
   "execution_count": 23,
   "id": "12c85ac2",
   "metadata": {
    "scrolled": true
   },
   "outputs": [],
   "source": [
    "# 2. Extraer datos de PIB por pais\n",
    "datos_pib = pd.read_csv(\"datos_limpios/datos_pib/Datos_PIB.csv\")\n",
    "datos_pib = datos_pib.T\n",
    "datos_pib = datos_pib[1:]\n",
    "datos_pib.columns = headerFinal\n",
    "pd.DataFrame(datos_pib).to_csv(\"datos_pib_final.csv\")\n"
   ]
  },
  {
   "cell_type": "code",
   "execution_count": 30,
   "id": "fdc189ad",
   "metadata": {},
   "outputs": [],
   "source": [
    "# 3. Extraer datos poblacion por pais\n",
    "datos_poblacion = pd.read_csv(\"datos_limpios/datos_poblacion/datos_poblacion.csv\")\n",
    "datos_poblacion = datos_poblacion.T\n",
    "datos_poblacion = datos_poblacion[1:]\n",
    "datos_poblacion.columns = headerFinal\n",
    "pd.DataFrame(datos_poblacion).to_csv('datos_poblacion.csv')"
   ]
  },
  {
   "cell_type": "code",
   "execution_count": 32,
   "id": "c9d68acb",
   "metadata": {},
   "outputs": [
    {
     "data": {
      "text/plain": [
       "['francia.csv',\n",
       " '.DS_Store',\n",
       " 'dinamarca.csv',\n",
       " 'irlanda.csv',\n",
       " 'portugal.csv',\n",
       " 'alemania.csv',\n",
       " 'italia.csv',\n",
       " 'suecia.csv',\n",
       " 'austria.csv',\n",
       " 'belgica.csv',\n",
       " 'noruega.csv',\n",
       " 'reino unido.csv',\n",
       " 'espana.csv',\n",
       " 'paises bajos.csv',\n",
       " 'luxemburgo.csv',\n",
       " 'republica checa.csv']"
      ]
     },
     "execution_count": 32,
     "metadata": {},
     "output_type": "execute_result"
    }
   ],
   "source": [
    "# Buscamos todos los consumos por país\n",
    "os.listdir(\"datos_limpios/consumo_paises\")"
   ]
  },
  {
   "cell_type": "code",
   "execution_count": 85,
   "id": "c0d0a58d",
   "metadata": {},
   "outputs": [],
   "source": [
    "# Extraemos el consumo eléctrico medio por país entre 2015-2019\n",
    "\n",
    "datos_consumo = os.listdir(\"datos_limpios/consumo_paises\")\n",
    "names = [\"PIB\", \"Paro\", \"Poblacion\", \"Consumo\"]\n",
    "medias = []\n",
    "\n",
    "for csv in datos_consumo:\n",
    "    if(csv not in (\"Datos_PIB.csv\", \"datos_poblacion.csv\", \"paro_paises.csv\", \".DS_Store\")):\n",
    "        if(os.path.exists('./datos_limpios/consumo_paises/' + csv)):\n",
    "            consumo = pd.read_csv('./datos_limpios/consumo_paises/' + csv)\n",
    "            for year in ['2015','2016','2017','2018','2019']:\n",
    "                # Aplica la media del consumo eléctrico por año para cada país\n",
    "                media = consumo[consumo['Dia'].apply(lambda x: year in x)]['load'].mean()\n",
    "                medias.append(media)\n",
    "                \n",
    "# Tenemos todas las medias en un mismo dataset para todos los paises, hay que asociar las medias para cada pais                \n",
    "            media_por_pais = pd.DataFrame({'Consumo':medias})\n",
    "            index = csv.replace('.csv', '')\n",
    "            datos_pais = pd.concat([datos_pib[index], datos_paro[index], datos_poblacion[index], media_por_pais], axis = 1)\n",
    "            datos_pais.columns = names\n",
    "            pd.DataFrame(datos_pais).to_csv('meh/' + csv, index = False)\n",
    "            medias = []"
   ]
  },
  {
   "cell_type": "code",
   "execution_count": null,
   "id": "7e74d094",
   "metadata": {},
   "outputs": [],
   "source": []
  },
  {
   "cell_type": "code",
   "execution_count": null,
   "id": "cb930462",
   "metadata": {},
   "outputs": [],
   "source": []
  },
  {
   "cell_type": "code",
   "execution_count": null,
   "id": "cc7ee31c",
   "metadata": {},
   "outputs": [],
   "source": []
  },
  {
   "cell_type": "code",
   "execution_count": null,
   "id": "08ac5fca",
   "metadata": {},
   "outputs": [],
   "source": []
  },
  {
   "cell_type": "code",
   "execution_count": null,
   "id": "428c4a78",
   "metadata": {},
   "outputs": [],
   "source": []
  },
  {
   "cell_type": "code",
   "execution_count": null,
   "id": "d2f6019c",
   "metadata": {},
   "outputs": [],
   "source": []
  },
  {
   "cell_type": "code",
   "execution_count": null,
   "id": "085db070",
   "metadata": {},
   "outputs": [],
   "source": []
  }
 ],
 "metadata": {
  "kernelspec": {
   "display_name": "Python 3 (ipykernel)",
   "language": "python",
   "name": "python3"
  },
  "language_info": {
   "codemirror_mode": {
    "name": "ipython",
    "version": 3
   },
   "file_extension": ".py",
   "mimetype": "text/x-python",
   "name": "python",
   "nbconvert_exporter": "python",
   "pygments_lexer": "ipython3",
   "version": "3.10.6"
  }
 },
 "nbformat": 4,
 "nbformat_minor": 5
}
